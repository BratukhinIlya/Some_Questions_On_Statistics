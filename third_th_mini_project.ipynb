{
 "cells": [
  {
   "cell_type": "markdown",
   "id": "cb77feb1-7110-4128-a9bc-675626cb856f",
   "metadata": {},
   "source": [
    "Представьте, что вы работаете аналитиком в очень крупной компании по доставке пиццы над приложением для курьеров (да, обычно в таких компаниях есть приложение для курьеров и отдельно приложение для потребителей).\n",
    "\n",
    "У вас есть несколько ресторанов в разных частях города и целый штат курьеров. Но есть одна проблема — к вечеру скорость доставки падает из-за того, что курьеры уходят домой после рабочего дня, а количество заказов лишь растет. Это приводит к тому, что в момент пересмены наша доставка очень сильно проседает в эффективности.\n",
    "\n",
    "Наши data scientist-ы придумали новый алгоритм, который позволяет курьерам запланировать свои последние заказы перед окончанием рабочего дня так, чтобы их маршрут доставки совпадал с маршрутом до дома. То есть, чтобы курьеры доставляли последние свои заказы за день как бы \"по пути\" домой.\n",
    "\n",
    "Вы вместе с командой решили раскатить A/B тест на две равные группы курьеров. Часть курьеров использует старый алгоритм без опции \"по пути\", другие видят в своем приложении эту опцию и могут ее выбрать. Ваша задача – проанализировать данные эксперимента и помочь бизнесу принять решение о раскатке новой фичи на всех курьеров.\n",
    "\n",
    "`Описание данных`\n",
    "\n",
    "order_id - id заказа\n",
    "\n",
    "delivery_time - время доставки в минутах\n",
    "\n",
    "district - район доставки\n",
    "\n",
    "experiment_group - экспериментальная группа\n",
    "\n",
    "`ГИПОТЕЗЫ`\n",
    "\n",
    "Н0 - разницы между временем доставкой в тестовой и контрольной группе есть\n",
    "\n",
    "Н1 - разница есть)"
   ]
  },
  {
   "cell_type": "code",
   "execution_count": 6,
   "id": "5e9e7c1d-3ebc-43b9-8918-4e7f5d2130d8",
   "metadata": {},
   "outputs": [],
   "source": [
    "import pandas as pd\n",
    "import numpy as np"
   ]
  },
  {
   "cell_type": "code",
   "execution_count": 8,
   "id": "66f70ff4-0433-4203-8351-292ffbe3d2a8",
   "metadata": {},
   "outputs": [
    {
     "data": {
      "text/html": [
       "<div>\n",
       "<style scoped>\n",
       "    .dataframe tbody tr th:only-of-type {\n",
       "        vertical-align: middle;\n",
       "    }\n",
       "\n",
       "    .dataframe tbody tr th {\n",
       "        vertical-align: top;\n",
       "    }\n",
       "\n",
       "    .dataframe thead th {\n",
       "        text-align: right;\n",
       "    }\n",
       "</style>\n",
       "<table border=\"1\" class=\"dataframe\">\n",
       "  <thead>\n",
       "    <tr style=\"text-align: right;\">\n",
       "      <th></th>\n",
       "      <th>order_id</th>\n",
       "      <th>delivery_time</th>\n",
       "      <th>district</th>\n",
       "      <th>experiment_group</th>\n",
       "    </tr>\n",
       "  </thead>\n",
       "  <tbody>\n",
       "    <tr>\n",
       "      <th>0</th>\n",
       "      <td>3159</td>\n",
       "      <td>44.0</td>\n",
       "      <td>Purlieus</td>\n",
       "      <td>control</td>\n",
       "    </tr>\n",
       "    <tr>\n",
       "      <th>1</th>\n",
       "      <td>10426</td>\n",
       "      <td>51.0</td>\n",
       "      <td>Purlieus</td>\n",
       "      <td>control</td>\n",
       "    </tr>\n",
       "    <tr>\n",
       "      <th>2</th>\n",
       "      <td>9155</td>\n",
       "      <td>46.0</td>\n",
       "      <td>Purlieus</td>\n",
       "      <td>control</td>\n",
       "    </tr>\n",
       "    <tr>\n",
       "      <th>3</th>\n",
       "      <td>10699</td>\n",
       "      <td>34.0</td>\n",
       "      <td>Purlieus</td>\n",
       "      <td>control</td>\n",
       "    </tr>\n",
       "    <tr>\n",
       "      <th>4</th>\n",
       "      <td>10061</td>\n",
       "      <td>43.0</td>\n",
       "      <td>Purlieus</td>\n",
       "      <td>control</td>\n",
       "    </tr>\n",
       "  </tbody>\n",
       "</table>\n",
       "</div>"
      ],
      "text/plain": [
       "   order_id  delivery_time  district experiment_group\n",
       "0      3159           44.0  Purlieus          control\n",
       "1     10426           51.0  Purlieus          control\n",
       "2      9155           46.0  Purlieus          control\n",
       "3     10699           34.0  Purlieus          control\n",
       "4     10061           43.0  Purlieus          control"
      ]
     },
     "execution_count": 8,
     "metadata": {},
     "output_type": "execute_result"
    }
   ],
   "source": [
    "data = pd.read_csv('https://stepik.org/media/attachments/lesson/385916/experiment_lesson_4.csv')\n",
    "data.head()"
   ]
  },
  {
   "cell_type": "markdown",
   "id": "a4184c14-0f20-49e5-a59e-30d96ecbfc93",
   "metadata": {},
   "source": [
    "Посчитайте количество наблюдений в тестовой и контрольной группе. На сколько по модулю отличается количество наблюдений в тесте и контроле?"
   ]
  },
  {
   "cell_type": "code",
   "execution_count": 35,
   "id": "7400bbc9-c602-4cf2-bd8e-d3e77f109b56",
   "metadata": {},
   "outputs": [
    {
     "data": {
      "text/plain": [
       "10104"
      ]
     },
     "execution_count": 35,
     "metadata": {},
     "output_type": "execute_result"
    }
   ],
   "source": [
    "test_count = data.query('experiment_group == \"test\"').value_counts().sum()\n",
    "test_count"
   ]
  },
  {
   "cell_type": "code",
   "execution_count": 39,
   "id": "c72b1184-5960-4a58-8398-38f181ab1296",
   "metadata": {},
   "outputs": [
    {
     "data": {
      "text/plain": [
       "10092"
      ]
     },
     "execution_count": 39,
     "metadata": {},
     "output_type": "execute_result"
    }
   ],
   "source": [
    "control_count = data.query('experiment_group == \"control\"').value_counts().sum()\n",
    "control_count"
   ]
  },
  {
   "cell_type": "code",
   "execution_count": 43,
   "id": "b8a4fde2-ebeb-4fb3-acaa-65a677ab7f3d",
   "metadata": {},
   "outputs": [
    {
     "data": {
      "text/plain": [
       "12"
      ]
     },
     "execution_count": 43,
     "metadata": {},
     "output_type": "execute_result"
    }
   ],
   "source": [
    "dif = test_count - control_count\n",
    "dif"
   ]
  },
  {
   "cell_type": "markdown",
   "id": "c56d51b8-53ec-461e-9612-803299f4b647",
   "metadata": {},
   "source": [
    "Теперь давайте изучим наши распределения. Проверим выполнение условий на нормальность и посчитаем стандартное отклонение в тесте и в контроле.\n",
    "\n",
    "Обязательно сделайте семплирование перед применением критерия при проверке на нормальность (и для теста, и для контроля), так как на больших выборках вы можете получать неверные результаты:\n",
    "\n",
    "experiment[experiment['experiment_group'] == 'test']['delivery_time'].sample(1000, random_state=17)\n",
    "Почему тест может дать здесь неправильный ответ? Загляните в подсказки - в первом пункте мы постарались осветить этот момент подробнее :)"
   ]
  },
  {
   "cell_type": "code",
   "execution_count": 50,
   "id": "fd2b6cc6-aa07-41b1-85a9-a524d9554cb2",
   "metadata": {},
   "outputs": [
    {
     "data": {
      "text/plain": [
       "ShapiroResult(statistic=0.9975429485383064, pvalue=0.13902241238486684)"
      ]
     },
     "execution_count": 50,
     "metadata": {},
     "output_type": "execute_result"
    }
   ],
   "source": [
    "from scipy.stats import shapiro\n",
    "shapiro(data[data['experiment_group']=='test']['delivery_time'].sample(1000, random_state=17))"
   ]
  },
  {
   "cell_type": "code",
   "execution_count": 52,
   "id": "ed10752a-a5c8-4c64-81d7-c690f62a1743",
   "metadata": {},
   "outputs": [
    {
     "data": {
      "text/plain": [
       "ShapiroResult(statistic=0.9974716381542054, pvalue=0.12392829880543467)"
      ]
     },
     "execution_count": 52,
     "metadata": {},
     "output_type": "execute_result"
    }
   ],
   "source": [
    "shapiro(data[data['experiment_group']=='control']['delivery_time'].sample(1000, random_state=17))"
   ]
  },
  {
   "cell_type": "code",
   "execution_count": 62,
   "id": "8ee79bc3-dc97-4e5d-96d4-60c08705add3",
   "metadata": {},
   "outputs": [
    {
     "data": {
      "text/plain": [
       "9.883"
      ]
     },
     "execution_count": 62,
     "metadata": {},
     "output_type": "execute_result"
    }
   ],
   "source": [
    "std_test = round(data.query('experiment_group == \"test\"').delivery_time.std(), 3)\n",
    "std_test"
   ]
  },
  {
   "cell_type": "code",
   "execution_count": 64,
   "id": "45fe3d87-29d1-49ed-9a38-f94fc76098b9",
   "metadata": {},
   "outputs": [
    {
     "data": {
      "text/plain": [
       "9.99"
      ]
     },
     "execution_count": 64,
     "metadata": {},
     "output_type": "execute_result"
    }
   ],
   "source": [
    "std_control = round(data.query('experiment_group == \"control\"').delivery_time.std(), 3)\n",
    "std_control"
   ]
  },
  {
   "cell_type": "markdown",
   "id": "5c397fe9-7676-43a4-bc54-6123ea1bba96",
   "metadata": {},
   "source": [
    "`Вывод:` Так как p-value для двух выборок через критерий Шапиро-Уилка больше 0.05, то мы не отвергаем 0-ю гипотезу о том, что распределение нормальное. Так же нашли среднеквадратичное отклонение для тестовой выборки = 9.88 и для контрольной выборки = 9.99"
   ]
  },
  {
   "cell_type": "markdown",
   "id": "202d5791-6836-4142-be66-a86024f971ec",
   "metadata": {},
   "source": [
    "Пришло время сравнить средние в тесте и контроле. Внимание: здесь уже не нужно пользоваться методом .sample() — он нам нужен был только для теста Шапиро-Уилка, остальные тесты надо проводить на полных данных.\n",
    "\n"
   ]
  },
  {
   "cell_type": "code",
   "execution_count": 68,
   "id": "12dfdaf6-3e04-4fda-9b88-f2e4c07b60f0",
   "metadata": {},
   "outputs": [
    {
     "data": {
      "text/plain": [
       "TtestResult(statistic=-43.03582663183714, pvalue=0.0, df=20194.0)"
      ]
     },
     "execution_count": 68,
     "metadata": {},
     "output_type": "execute_result"
    }
   ],
   "source": [
    "from scipy.stats import ttest_ind\n",
    "ttest_ind(data.query('experiment_group == \"test\"').delivery_time, \n",
    "          data.query('experiment_group == \"control\"').delivery_time)"
   ]
  },
  {
   "cell_type": "markdown",
   "id": "7d79f3bd-7a62-4a24-802b-c6d3456eac36",
   "metadata": {},
   "source": [
    "`Вывод:` Мы сравнили средние двух групп. P-value = 0, значит мы отвергаем Н0, значение статистики равно -43"
   ]
  },
  {
   "cell_type": "markdown",
   "id": "6f32a581-478c-409e-a54a-616eac467cf1",
   "metadata": {},
   "source": [
    "На сколько процентов изменилось среднее время доставки в тестовой группе по сравнению с контрольной (округлите до сотых)?"
   ]
  },
  {
   "cell_type": "code",
   "execution_count": 72,
   "id": "4a51bb73-d079-4d7e-be49-bd1abf1993a5",
   "metadata": {},
   "outputs": [
    {
     "data": {
      "text/plain": [
       "39.04681314330958"
      ]
     },
     "execution_count": 72,
     "metadata": {},
     "output_type": "execute_result"
    }
   ],
   "source": [
    "test = data.query('experiment_group == \"test\"')\n",
    "test_mean = test.delivery_time.mean()\n",
    "test_mean"
   ]
  },
  {
   "cell_type": "code",
   "execution_count": 76,
   "id": "20e832d2-7d27-4b93-aad0-55c6c37596d9",
   "metadata": {},
   "outputs": [
    {
     "data": {
      "text/plain": [
       "45.065101070154576"
      ]
     },
     "execution_count": 76,
     "metadata": {},
     "output_type": "execute_result"
    }
   ],
   "source": [
    "control_mean = data.query('experiment_group == \"control\"').delivery_time.mean()\n",
    "control_mean"
   ]
  },
  {
   "cell_type": "code",
   "execution_count": 80,
   "id": "28a3591c-09bc-4f46-b1e2-fa0da0198b87",
   "metadata": {},
   "outputs": [
    {
     "data": {
      "text/plain": [
       "13.35"
      ]
     },
     "execution_count": 80,
     "metadata": {},
     "output_type": "execute_result"
    }
   ],
   "source": [
    "percent = (control_mean - test_mean) / control_mean * 100\n",
    "round(percent, 2)"
   ]
  },
  {
   "cell_type": "markdown",
   "id": "8e521875-6d1a-4aa5-b21b-6d09a0155a19",
   "metadata": {},
   "source": [
    "`Ответ:` На 13,35% изменилось время доставки в лучшую сторону"
   ]
  },
  {
   "cell_type": "code",
   "execution_count": null,
   "id": "184d052e-9f39-48b7-8c79-4e71c35a8fb4",
   "metadata": {},
   "outputs": [],
   "source": []
  }
 ],
 "metadata": {
  "kernelspec": {
   "display_name": "Python [conda env:base] *",
   "language": "python",
   "name": "conda-base-py"
  },
  "language_info": {
   "codemirror_mode": {
    "name": "ipython",
    "version": 3
   },
   "file_extension": ".py",
   "mimetype": "text/x-python",
   "name": "python",
   "nbconvert_exporter": "python",
   "pygments_lexer": "ipython3",
   "version": "3.12.7"
  }
 },
 "nbformat": 4,
 "nbformat_minor": 5
}
